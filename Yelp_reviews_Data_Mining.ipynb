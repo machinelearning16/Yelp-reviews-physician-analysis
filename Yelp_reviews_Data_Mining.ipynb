{
 "cells": [
  {
   "cell_type": "code",
   "execution_count": 52,
   "metadata": {},
   "outputs": [],
   "source": [
    "import pandas as pd\n",
    "import requests"
   ]
  },
  {
   "cell_type": "markdown",
   "metadata": {},
   "source": [
    "## Creating Request to Search for Physicians on Yelp.com\n",
    "You will require an API Key to extract data, used two functions: request() and getreviews()\n",
    "\n",
    "To create an API Key, do the following:\n",
    "- sign up on Yelp.com to create an account, ignore if already have an account\n",
    "- Login to Yelp.com\n",
    "- Go to Create App\n",
    "- In the create new app form, enter dummy information about your app(App Name, Industry, Email, Description), then agree to Yelp API Terms of Use and Display Requirements. Then click the Submit button.\n",
    "- You will now have an API Key.\n",
    "- Replace the Fake API Key in both functions with your API Key"
   ]
  },
  {
   "cell_type": "code",
   "execution_count": 41,
   "metadata": {},
   "outputs": [],
   "source": [
    "def request():\n",
    "    \"\"\"Given your API_KEY, send a GET request to the API.\n",
    "    Args:\n",
    "        url (str): The path of the API with the domain.\n",
    "        api_key (str): Your API Key.\n",
    "        url_params (dict): An optional set of query parameters in the request.\n",
    "    Returns:\n",
    "        dict: The JSON response from the request.\n",
    "    Raises:\n",
    "        HTTPError: An error occurs from the HTTP request.\n",
    "    \"\"\"\n",
    "    api_key = \"ajndlajsnashjksdbjknsdghjklljfghjkldfghjklgfdghjkhgfdghjkhgfdhhg\" # Fake API Key\n",
    "    url = \"https://api.yelp.com/v3/businesses/search\"\n",
    "    headers = {\n",
    "        'Authorization': 'Bearer %s' % api_key,\n",
    "    }\n",
    "    url_params = {\n",
    "        'term': \"physician\".replace(' ', '+'),\n",
    "        'location': \"New York, NY\".replace(' ', '+'),\n",
    "        'limit': '50'\n",
    "    }\n",
    "\n",
    "    print(u'Querying {0} ...'.format(url))\n",
    "\n",
    "    response = requests.request('GET', url, headers=headers, params=url_params)\n",
    "\n",
    "    return response.json()"
   ]
  },
  {
   "cell_type": "code",
   "execution_count": 43,
   "metadata": {},
   "outputs": [
    {
     "name": "stdout",
     "output_type": "stream",
     "text": [
      "Querying https://api.yelp.com/v3/businesses/search ...\n"
     ]
    }
   ],
   "source": [
    "yelp_data = request()"
   ]
  },
  {
   "cell_type": "markdown",
   "metadata": {},
   "source": [
    "### Get Reviews for Each Physician using Yelp Fusion API"
   ]
  },
  {
   "cell_type": "code",
   "execution_count": 68,
   "metadata": {},
   "outputs": [],
   "source": [
    "def get_reviews(business_id):\n",
    "    \"\"\"Given your API_KEY, send a GET request to the API.\n",
    "    Args:\n",
    "        url (str): The path of the API with the domain.\n",
    "        api_key (str): Your API Key.\n",
    "    Returns:\n",
    "        dict: The JSON response from the request.\n",
    "    Raises:\n",
    "        HTTPError: An error occurs from the HTTP request.\n",
    "    \"\"\"\n",
    "    url = \"https://api.yelp.com/v3/businesses/{buss_id}/reviews\".format(buss_id=business_id)\n",
    "    api_key = \"ajndlajsnashjksdbjknsdghjklljfghjkldfghjklgfdghjkhgfdghjkhgfdhhg\" # Fake API Key\n",
    "\n",
    "    headers = {\n",
    "        'Authorization': 'Bearer %s' % api_key,\n",
    "    }\n",
    "    print(u'Querying {0} ...'.format(url))\n",
    "\n",
    "    response = requests.request('GET', url, headers=headers)\n",
    "    return response.json()"
   ]
  },
  {
   "cell_type": "markdown",
   "metadata": {},
   "source": [
    "### Filtering Required Data into Pandas DataFrame"
   ]
  },
  {
   "cell_type": "code",
   "execution_count": 143,
   "metadata": {},
   "outputs": [
    {
     "name": "stdout",
     "output_type": "stream",
     "text": [
      "Querying https://api.yelp.com/v3/businesses/laura-guderian-md-new-york/reviews ...\n",
      "Querying https://api.yelp.com/v3/businesses/mohawk-village-medical-new-york-2/reviews ...\n",
      "Querying https://api.yelp.com/v3/businesses/michael-raffinan-md-new-york/reviews ...\n",
      "Querying https://api.yelp.com/v3/businesses/inna-grishina-md-brooklyn-2/reviews ...\n",
      "Querying https://api.yelp.com/v3/businesses/xiaoyan-song-md-flushing/reviews ...\n",
      "Querying https://api.yelp.com/v3/businesses/bruce-chung-md-new-york/reviews ...\n",
      "Querying https://api.yelp.com/v3/businesses/weill-cornell-medicine-primary-care-west-side-new-york-3/reviews ...\n",
      "Querying https://api.yelp.com/v3/businesses/socrates-t-kangadis-md-new-york/reviews ...\n",
      "Querying https://api.yelp.com/v3/businesses/karis-cho-md-new-york/reviews ...\n",
      "Querying https://api.yelp.com/v3/businesses/jason-h-dolinsky-md-new-york-2/reviews ...\n",
      "Querying https://api.yelp.com/v3/businesses/michelle-li-md-new-york/reviews ...\n",
      "Querying https://api.yelp.com/v3/businesses/aldo-alleva-md-brooklyn-2/reviews ...\n",
      "Querying https://api.yelp.com/v3/businesses/alan-pinyavat-md-manhattan/reviews ...\n",
      "Querying https://api.yelp.com/v3/businesses/sally-h-kwa-md-new-york/reviews ...\n",
      "Querying https://api.yelp.com/v3/businesses/amy-bleyer-md-new-york/reviews ...\n",
      "Querying https://api.yelp.com/v3/businesses/lam-terry-md-new-york/reviews ...\n",
      "Querying https://api.yelp.com/v3/businesses/zina-kroner-do-new-york/reviews ...\n",
      "Querying https://api.yelp.com/v3/businesses/viplov-mehta-md-brooklyn/reviews ...\n",
      "Querying https://api.yelp.com/v3/businesses/tammy-leopold-md-new-york/reviews ...\n",
      "Querying https://api.yelp.com/v3/businesses/shum-chi-new-york/reviews ...\n",
      "Querying https://api.yelp.com/v3/businesses/leaf-medical-brooklyn-2/reviews ...\n",
      "Querying https://api.yelp.com/v3/businesses/louis-c-barricelli-md-brooklyn/reviews ...\n",
      "Querying https://api.yelp.com/v3/businesses/michael-zuckman-md-sunnyside/reviews ...\n",
      "Querying https://api.yelp.com/v3/businesses/paul-knoepflmacher-md-new-york/reviews ...\n",
      "Querying https://api.yelp.com/v3/businesses/smart-health-medical-elmhurst/reviews ...\n",
      "Querying https://api.yelp.com/v3/businesses/bailyn-douglas-h-md-new-york-2/reviews ...\n",
      "Querying https://api.yelp.com/v3/businesses/elena-klimenko-md-new-york/reviews ...\n",
      "Querying https://api.yelp.com/v3/businesses/pei-gao-md-queens/reviews ...\n",
      "Querying https://api.yelp.com/v3/businesses/scafuri-frank-md-iii-staten-island/reviews ...\n",
      "Querying https://api.yelp.com/v3/businesses/allison-fox-md-new-york/reviews ...\n",
      "Querying https://api.yelp.com/v3/businesses/astrahealth-urgent-and-primary-care-hoboken-2/reviews ...\n",
      "Querying https://api.yelp.com/v3/businesses/lola-iskhakova-md-ozone-park/reviews ...\n",
      "Querying https://api.yelp.com/v3/businesses/ann-jin-qui-md-manhattan/reviews ...\n",
      "Querying https://api.yelp.com/v3/businesses/neighborhood-natural-medicine-brooklyn-2/reviews ...\n",
      "Querying https://api.yelp.com/v3/businesses/glasser-jeffrey-md-new-york/reviews ...\n",
      "Querying https://api.yelp.com/v3/businesses/forest-hills-medical-services-forest-hills/reviews ...\n",
      "Querying https://api.yelp.com/v3/businesses/gerald-h-leventhal-md-pc-new-york/reviews ...\n",
      "Querying https://api.yelp.com/v3/businesses/st-claire-medical-new-york/reviews ...\n",
      "Querying https://api.yelp.com/v3/businesses/moitri-savard-md-queens/reviews ...\n",
      "Querying https://api.yelp.com/v3/businesses/gentile-ronald-dr-new-york/reviews ...\n",
      "Querying https://api.yelp.com/v3/businesses/dr-melanie-joannow-ditmars-steinway/reviews ...\n",
      "Querying https://api.yelp.com/v3/businesses/macaulay-grant-new-york/reviews ...\n",
      "Querying https://api.yelp.com/v3/businesses/westside-family-medicine-new-york/reviews ...\n",
      "Querying https://api.yelp.com/v3/businesses/zhanna-tsukerman-md-brooklyn/reviews ...\n",
      "Querying https://api.yelp.com/v3/businesses/arturo-constantiner-md-new-york/reviews ...\n",
      "Querying https://api.yelp.com/v3/businesses/david-r-kaplowitz-md-new-york/reviews ...\n",
      "Querying https://api.yelp.com/v3/businesses/rebecca-press-md-mph-new-york/reviews ...\n",
      "Querying https://api.yelp.com/v3/businesses/alexander-shifrin-md-brooklyn/reviews ...\n",
      "Querying https://api.yelp.com/v3/businesses/jeffrey-m-engel-md-new-york/reviews ...\n",
      "Querying https://api.yelp.com/v3/businesses/alexander-krishtul-md-new-york/reviews ...\n"
     ]
    }
   ],
   "source": [
    "yelp_dataframe = pd.DataFrame()\n",
    "for data in yelp_data[\"businesses\"]:\n",
    "    avg_rating = data[\"rating\"]\n",
    "    title = data[\"categories\"][0][\"title\"]\n",
    "    alias = data[\"categories\"][0][\"alias\"]\n",
    "    city = data[\"location\"][\"city\"]\n",
    "    country = data[\"location\"][\"country\"]\n",
    "    address = \", \".join(data[\"location\"][\"display_address\"])\n",
    "    state = data[\"location\"][\"state\"]\n",
    "    zip_code = data[\"location\"][\"zip_code\"]\n",
    "    name = data[\"name\"]\n",
    "    buss_id = data[\"id\"]\n",
    "    response_dict = get_reviews(buss_id)\n",
    "    if response_dict:\n",
    "        reviews_list = response_dict[\"reviews\"]\n",
    "        for review in reviews_list:\n",
    "            review[\"user\"] = review[\"user\"][\"name\"]\n",
    "            review[\"physician\"] = name\n",
    "            review[\"avg_rating\"] = avg_rating\n",
    "            review[\"title\"] = title\n",
    "            review[\"alias\"] = alias\n",
    "            review[\"city\"] = city\n",
    "            review[\"country\"] = country\n",
    "            review[\"address\"] = address\n",
    "            review[\"state\"] = state\n",
    "            review[\"zip_code\"] = zip_code\n",
    "        yelp_dataframe = yelp_dataframe.append(reviews_list)"
   ]
  },
  {
   "cell_type": "code",
   "execution_count": 144,
   "metadata": {},
   "outputs": [],
   "source": [
    "yelp_dataframe.reset_index(inplace=True)"
   ]
  },
  {
   "cell_type": "code",
   "execution_count": 145,
   "metadata": {},
   "outputs": [],
   "source": [
    "yelp_dataframe.drop('index', axis=1, inplace=True)"
   ]
  },
  {
   "cell_type": "code",
   "execution_count": 148,
   "metadata": {},
   "outputs": [
    {
     "data": {
      "text/html": [
       "<div>\n",
       "<style>\n",
       "    .dataframe thead tr:only-child th {\n",
       "        text-align: right;\n",
       "    }\n",
       "\n",
       "    .dataframe thead th {\n",
       "        text-align: left;\n",
       "    }\n",
       "\n",
       "    .dataframe tbody tr th {\n",
       "        vertical-align: top;\n",
       "    }\n",
       "</style>\n",
       "<table border=\"1\" class=\"dataframe\">\n",
       "  <thead>\n",
       "    <tr style=\"text-align: right;\">\n",
       "      <th></th>\n",
       "      <th>address</th>\n",
       "      <th>alias</th>\n",
       "      <th>avg_rating</th>\n",
       "      <th>city</th>\n",
       "      <th>country</th>\n",
       "      <th>physician</th>\n",
       "      <th>rating</th>\n",
       "      <th>state</th>\n",
       "      <th>text</th>\n",
       "      <th>time_created</th>\n",
       "      <th>title</th>\n",
       "      <th>url</th>\n",
       "      <th>user</th>\n",
       "      <th>zip_code</th>\n",
       "    </tr>\n",
       "  </thead>\n",
       "  <tbody>\n",
       "    <tr>\n",
       "      <th>0</th>\n",
       "      <td>35 E 21st St, Fl 7, New York, NY 10010</td>\n",
       "      <td>internalmed</td>\n",
       "      <td>4.5</td>\n",
       "      <td>New York</td>\n",
       "      <td>US</td>\n",
       "      <td>Laura Guderian, MD</td>\n",
       "      <td>5</td>\n",
       "      <td>NY</td>\n",
       "      <td>I've been delighted with Dr. Guderian as my pr...</td>\n",
       "      <td>2017-09-06 13:21:59</td>\n",
       "      <td>Internal Medicine</td>\n",
       "      <td>https://www.yelp.com/biz/laura-guderian-md-new...</td>\n",
       "      <td>Bonnie E.</td>\n",
       "      <td>10010</td>\n",
       "    </tr>\n",
       "    <tr>\n",
       "      <th>1</th>\n",
       "      <td>35 E 21st St, Fl 7, New York, NY 10010</td>\n",
       "      <td>internalmed</td>\n",
       "      <td>4.5</td>\n",
       "      <td>New York</td>\n",
       "      <td>US</td>\n",
       "      <td>Laura Guderian, MD</td>\n",
       "      <td>1</td>\n",
       "      <td>NY</td>\n",
       "      <td>I really wanted to like One Medical Group. I a...</td>\n",
       "      <td>2016-09-25 16:00:50</td>\n",
       "      <td>Internal Medicine</td>\n",
       "      <td>https://www.yelp.com/biz/laura-guderian-md-new...</td>\n",
       "      <td>Yelpish N.</td>\n",
       "      <td>10010</td>\n",
       "    </tr>\n",
       "  </tbody>\n",
       "</table>\n",
       "</div>"
      ],
      "text/plain": [
       "                                  address        alias  avg_rating      city  \\\n",
       "0  35 E 21st St, Fl 7, New York, NY 10010  internalmed         4.5  New York   \n",
       "1  35 E 21st St, Fl 7, New York, NY 10010  internalmed         4.5  New York   \n",
       "\n",
       "  country           physician  rating state  \\\n",
       "0      US  Laura Guderian, MD       5    NY   \n",
       "1      US  Laura Guderian, MD       1    NY   \n",
       "\n",
       "                                                text         time_created  \\\n",
       "0  I've been delighted with Dr. Guderian as my pr...  2017-09-06 13:21:59   \n",
       "1  I really wanted to like One Medical Group. I a...  2016-09-25 16:00:50   \n",
       "\n",
       "               title                                                url  \\\n",
       "0  Internal Medicine  https://www.yelp.com/biz/laura-guderian-md-new...   \n",
       "1  Internal Medicine  https://www.yelp.com/biz/laura-guderian-md-new...   \n",
       "\n",
       "         user zip_code  \n",
       "0   Bonnie E.    10010  \n",
       "1  Yelpish N.    10010  "
      ]
     },
     "execution_count": 148,
     "metadata": {},
     "output_type": "execute_result"
    }
   ],
   "source": [
    "yelp_dataframe.head(2)"
   ]
  },
  {
   "cell_type": "markdown",
   "metadata": {},
   "source": [
    "### Exporting Pandas DataFrame to Local CSV"
   ]
  },
  {
   "cell_type": "code",
   "execution_count": 149,
   "metadata": {},
   "outputs": [],
   "source": [
    "yelp_dataframe.to_csv(\"yelp_reviews.csv\", index=False, encoding=\"UTF-8\")"
   ]
  }
 ],
 "metadata": {
  "kernelspec": {
   "display_name": "Python 3",
   "language": "python",
   "name": "python3"
  },
  "language_info": {
   "codemirror_mode": {
    "name": "ipython",
    "version": 3
   },
   "file_extension": ".py",
   "mimetype": "text/x-python",
   "name": "python",
   "nbconvert_exporter": "python",
   "pygments_lexer": "ipython3",
   "version": "3.6.3"
  }
 },
 "nbformat": 4,
 "nbformat_minor": 2
}
